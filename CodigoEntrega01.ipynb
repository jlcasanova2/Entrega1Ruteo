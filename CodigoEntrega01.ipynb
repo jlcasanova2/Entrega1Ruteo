{
 "cells": [
  {
   "cell_type": "code",
<<<<<<< HEAD
   "execution_count": 59,
=======
   "execution_count": 21,
>>>>>>> fbe90958c4e9efb2b252346eb6babc510c0f1efb
   "metadata": {},
   "outputs": [],
   "source": [
    "#idNodo = 0\n",
    "class Nodo:\n",
<<<<<<< HEAD
    "    last_ID = 1\n",
    "    \n",
    "    def __init__(self,X,Y):\n",
    "        self.x = X\n",
    "        self.y = Y\n",
    "        self.grado = 0\n",
    "        self.ID = Nodo.last_ID\n",
    "        Nodo.last_ID = Nodo.last_ID + 1\n",
    "        \n",
=======
    "    def __init__(self,X,Y,idNodo):\n",
    "        self.x = X\n",
    "        self.y = Y\n",
    "        self.grado = 0\n",
    "        self.id = idNodo\n",
    "        idNodo +=1\n",
>>>>>>> fbe90958c4e9efb2b252346eb6babc510c0f1efb
    "    def cambiar_grado(self,valor):\n",
    "        self.grado = valor\n",
    "\n",
    "a = Nodo(20,30,0)\n",
    "\n",
    "   \n"
   ]
  },
  {
   "cell_type": "code",
   "execution_count": 22,
   "metadata": {},
   "outputs": [],
   "source": [
    "import pandas as pd\n",
    "import numpy as np\n",
    "\n",
    "file = pd.read_csv('Instancia_20_1.txt', sep='\\t')\n",
    "nodos = np.asarray(file.Nodos)\n",
    "equis = np.asarray(file.X)\n",
    "igriega = np.asarray(file.Y)\n",
    "\n",
<<<<<<< HEAD
    "#a = Nodo(20,30)\n",
    "#print(a)\n",
    "\n",
    "\n",
    "nodos = {1:Nodo(2,3), 2:Nodo(4,5), 3:Nodo(3,3), 4:Nodo(4,5)}\n",
    "\n",
    "\n",
    "def distancia(nodo1,nodo2):\n",
    "    x1 = nodo1.x\n",
    "    y1 = nodo1.y\n",
    "    \n",
    "    x2 = nodo2.x\n",
    "    y2 = nodo2.y\n",
    "    \n",
    "    d = ((x2-x1)**2 + (y2-y1)**2)**(1/2)\n",
    "    \n",
    "    return d\n",
    "\n",
    "\n",
    "def Vecino_Mas_Cercano(inicio,nodos):\n",
    "    inicio.grado = 1\n",
    "    lista_final = [inicio.ID]\n",
    "    \n",
    "    last_nodo = inicio\n",
    "    \n",
    "    while len(lista_final) < len(nodos):\n",
    "        d_min = 99999999999999999999999999\n",
    "        a = last_nodo\n",
    "        last_nodo.grado = 2\n",
    "        \n",
    "        for i in range(1,len(nodos)+1):\n",
    "            print(i)\n",
    "            \n",
    "            if nodos[i] != last_nodo and nodos[i].grado < 1:\n",
    "                b = nodos[i]\n",
    "                d = distancia(a,b)\n",
    "                \n",
    "                if d < d_min:\n",
    "                    d_min = d\n",
    "                    last_nodo = nodos[i]\n",
    "            \n",
    "        lista_final.append(last_nodo.ID)\n",
    "        last_nodo.grado = last_nodo.grado+1\n",
    "    lista_final.append(inicio.ID)\n",
    "    \n",
    "    return lista_final\n",
    "                \n",
    "\n",
    "Vecino_Mas_Cercano(1,)\n",
    "\n"
   ]
  },
  {
   "cell_type": "code",
   "execution_count": 56,
   "metadata": {},
   "outputs": [
    {
     "name": "stdout",
     "output_type": "stream",
     "text": [
      "1\n",
      "2\n",
      "3\n",
      "4\n",
      "1\n",
      "2\n",
      "3\n",
      "4\n",
      "1\n",
      "2\n",
      "3\n",
      "4\n",
      "[1, 3, 2, 4]\n"
     ]
    }
   ],
   "source": [
    "#instancia de ejemplo\n",
    "\n",
    "#a = Nodo(2,3)\n",
    "#b = Nodo(4,5)\n",
    "#c = Nodo(3,3)\n",
    "#d = Nodo(6,2)\n",
    "\n",
    "\n",
    "\n",
    "nodos = {1:Nodo(2,3), 2:Nodo(4,5), 3:Nodo(3,3), 4:Nodo(4,5)}\n",
    "\n",
    "\n",
    "def distancia(nodo1,nodo2):\n",
    "    x1 = nodo1.x\n",
    "    y1 = nodo1.y\n",
    "    \n",
    "    x2 = nodo2.x\n",
    "    y2 = nodo2.y\n",
    "    \n",
    "    d = ((x2-x1)**2 + (y2-y1)**2)**(1/2)\n",
    "    \n",
    "    return d\n",
    "\n",
    "\n",
    "#vecino más cercano\n",
    "\n",
    "inicio = nodos[1]\n",
    "inicio.grado = 1\n",
    "lista_final = [inicio.ID]\n",
    "\n",
    "last_nodo = inicio\n",
    "\n",
    "\n",
    "\n",
    "\n",
    "while len(lista_final) < len(nodos):\n",
    "    d_min = 99999999999999999999999999\n",
    "    a = last_nodo\n",
    "    last_nodo.grado = 2\n",
    "    \n",
    "    for i in range(1,len(nodos)+1):\n",
    "        print(i)\n",
    "\n",
    "        \n",
    "    \n",
    "        \n",
    "        if nodos[i] != last_nodo and nodos[i].grado < 1:\n",
    "\n",
    "            b = nodos[i]\n",
    "            d = distancia(a,b)\n",
    "            \n",
    "            if d < d_min:\n",
    "                d_min = d\n",
    "                last_nodo = nodos[i]\n",
    "    \n",
    "    lista_final.append(last_nodo.ID)\n",
    "    last_nodo.grado = last_nodo.grado+1\n",
    "                \n",
    "\n",
    "print(lista_final)"
   ]
  },
  {
   "cell_type": "code",
   "execution_count": 31,
   "metadata": {},
   "outputs": [
    {
     "data": {
      "text/plain": [
       "range(0, 4)"
      ]
     },
     "execution_count": 31,
     "metadata": {},
     "output_type": "execute_result"
    }
   ],
   "source": [
    "nodos = {1:Nodo(2,3), 2:Nodo(4,5), 3:Nodo(3,3), 4:Nodo(4,5)}\n",
    "\n",
    "nodos[1].y\n",
    "\n",
    "for i in nodos"
=======
    "for i in range(len(nodos)):\n",
    "    N.append(Nodo(equis[i],igriega[i],nodos[i]))\n",
    "\n",
    "    "
>>>>>>> fbe90958c4e9efb2b252346eb6babc510c0f1efb
   ]
  },
  {
   "cell_type": "code",
   "execution_count": null,
   "metadata": {},
   "outputs": [],
   "source": []
  }
 ],
 "metadata": {
  "kernelspec": {
   "display_name": "Python 3",
   "language": "python",
   "name": "python3"
  },
  "language_info": {
   "codemirror_mode": {
    "name": "ipython",
    "version": 3
   },
   "file_extension": ".py",
   "mimetype": "text/x-python",
   "name": "python",
   "nbconvert_exporter": "python",
   "pygments_lexer": "ipython3",
   "version": "3.7.1"
  }
 },
 "nbformat": 4,
 "nbformat_minor": 2
}
