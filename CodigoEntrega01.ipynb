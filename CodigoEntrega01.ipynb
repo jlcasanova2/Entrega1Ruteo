{
 "cells": [
  {
   "cell_type": "code",
   "execution_count": 21,
   "metadata": {},
   "outputs": [],
   "source": [
    "#idNodo = 0\n",
    "class Nodo:\n",
    "    def __init__(self,X,Y,idNodo):\n",
    "        self.x = X\n",
    "        self.y = Y\n",
    "        self.grado = 0\n",
    "        self.id = idNodo\n",
    "        idNodo +=1\n",
    "    def cambiar_grado(self,valor):\n",
    "        self.grado = valor\n",
    "\n",
    "a = Nodo(20,30,0)\n",
    "\n",
    "   \n"
   ]
  },
  {
   "cell_type": "code",
   "execution_count": 22,
   "metadata": {},
   "outputs": [],
   "source": [
    "import pandas as pd\n",
    "import numpy as np\n",
    "\n",
    "file = pd.read_csv('Instancia_20_1.txt', sep='\\t')\n",
    "nodos = np.asarray(file.Nodos)\n",
    "equis = np.asarray(file.X)\n",
    "igriega = np.asarray(file.Y)\n",
    "\n",
    "for i in range(len(nodos)):\n",
    "    N.append(Nodo(equis[i],igriega[i],nodos[i]))\n",
    "\n",
    "    "
   ]
  },
  {
   "cell_type": "code",
   "execution_count": null,
   "metadata": {},
   "outputs": [],
   "source": []
  }
 ],
 "metadata": {
  "kernelspec": {
   "display_name": "Python 3",
   "language": "python",
   "name": "python3"
  },
  "language_info": {
   "codemirror_mode": {
    "name": "ipython",
    "version": 3
   },
   "file_extension": ".py",
   "mimetype": "text/x-python",
   "name": "python",
   "nbconvert_exporter": "python",
   "pygments_lexer": "ipython3",
   "version": "3.6.4"
  }
 },
 "nbformat": 4,
 "nbformat_minor": 2
}
